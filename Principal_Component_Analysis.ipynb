{
  "nbformat": 4,
  "nbformat_minor": 0,
  "metadata": {
    "colab": {
      "name": "Principal_Component_Analysis.ipynb",
      "provenance": []
    },
    "kernelspec": {
      "name": "python3",
      "display_name": "Python 3"
    }
  },
  "cells": [
    {
      "cell_type": "markdown",
      "metadata": {
        "id": "vVxi5OwiJfkN",
        "colab_type": "text"
      },
      "source": [
        "## Principal Component Analysis\n",
        "* Step: 1\n",
        "  * Rotates data sampled to align with axes\n",
        "* Step: 2\n",
        "  * Shift samples so that they have mean of 0"
      ]
    },
    {
      "cell_type": "code",
      "metadata": {
        "id": "Rz5Ou_hjJXtv",
        "colab_type": "code",
        "colab": {}
      },
      "source": [
        "from sklearn.datasets import load_iris\n",
        "from sklearn.decomposition import PCA\n",
        "import pandas as pd"
      ],
      "execution_count": 0,
      "outputs": []
    },
    {
      "cell_type": "code",
      "metadata": {
        "id": "wwgr12uPKJNl",
        "colab_type": "code",
        "colab": {}
      },
      "source": [
        "data=load_iris()"
      ],
      "execution_count": 0,
      "outputs": []
    },
    {
      "cell_type": "code",
      "metadata": {
        "id": "6bLMOkX1KK4H",
        "colab_type": "code",
        "colab": {}
      },
      "source": [
        "samples=data.data"
      ],
      "execution_count": 0,
      "outputs": []
    },
    {
      "cell_type": "code",
      "metadata": {
        "id": "g3vZ7KLpKMAm",
        "colab_type": "code",
        "colab": {}
      },
      "source": [
        "model=PCA(2)\n",
        "model.fit(samples)\n",
        "transformed=model.transform(samples)"
      ],
      "execution_count": 0,
      "outputs": []
    },
    {
      "cell_type": "code",
      "metadata": {
        "id": "3xQeTA5CMYeB",
        "colab_type": "code",
        "outputId": "d2bbc697-0a49-4dc1-b86e-8b888a2bece8",
        "colab": {
          "base_uri": "https://localhost:8080/",
          "height": 34
        }
      },
      "source": [
        "transformed.shape"
      ],
      "execution_count": 0,
      "outputs": [
        {
          "output_type": "execute_result",
          "data": {
            "text/plain": [
              "(150, 2)"
            ]
          },
          "metadata": {
            "tags": []
          },
          "execution_count": 19
        }
      ]
    },
    {
      "cell_type": "code",
      "metadata": {
        "id": "kNo1pszYManR",
        "colab_type": "code",
        "outputId": "305536db-aaad-402b-9676-c325d83e0c5f",
        "colab": {
          "base_uri": "https://localhost:8080/",
          "height": 285
        }
      },
      "source": [
        "sns.scatterplot(transformed[:,0],transformed[:,1]) # this is a principal component representation of the 4d data to 2d data"
      ],
      "execution_count": 0,
      "outputs": [
        {
          "output_type": "execute_result",
          "data": {
            "text/plain": [
              "<matplotlib.axes._subplots.AxesSubplot at 0x7f61c1f909e8>"
            ]
          },
          "metadata": {
            "tags": []
          },
          "execution_count": 99
        },
        {
          "output_type": "display_data",
          "data": {
            "image/png": "[encoded data removed]",
            "text/plain": [
              "<Figure size 432x288 with 1 Axes>"
            ]
          },
          "metadata": {
            "tags": []
          }
        }
      ]
    },
    {
      "cell_type": "code",
      "metadata": {
        "id": "3yrCVgBlMeRD",
        "colab_type": "code",
        "outputId": "a4de71dc-5059-4a3b-f32f-5cb0bf093617",
        "colab": {
          "base_uri": "https://localhost:8080/",
          "height": 286
        }
      },
      "source": [
        "df=pd.DataFrame({\n",
        "    'pca-1':transformed[:,0],\n",
        "    'pca-2':transformed[:,1]\n",
        "})\n",
        "sns.heatmap(df.corr(),annot=True)#  there is correlation between each of the principal components\n",
        "# this decorrelation is due to the realigning and shifting."
      ],
      "execution_count": 0,
      "outputs": [
        {
          "output_type": "execute_result",
          "data": {
            "text/plain": [
              "<matplotlib.axes._subplots.AxesSubplot at 0x7f61c4a3d0b8>"
            ]
          },
          "metadata": {
            "tags": []
          },
          "execution_count": 26
        },
        {
          "output_type": "display_data",
          "data": {
            "image/png": "[encoded data removed]",
            "text/plain": [
              "<Figure size 432x288 with 2 Axes>"
            ]
          },
          "metadata": {
            "tags": []
          }
        }
      ]
    },
    {
      "cell_type": "code",
      "metadata": {
        "id": "yahR34w1MTy2",
        "colab_type": "code",
        "outputId": "6ba0ca2c-9e44-4c5d-9c2c-91fe3f2c9e21",
        "colab": {
          "base_uri": "https://localhost:8080/",
          "height": 51
        }
      },
      "source": [
        "model.components_"
      ],
      "execution_count": 0,
      "outputs": [
        {
          "output_type": "execute_result",
          "data": {
            "text/plain": [
              "array([[ 0.36138659, -0.08452251,  0.85667061,  0.3582892 ],\n",
              "       [ 0.65658877,  0.73016143, -0.17337266, -0.07548102]])"
            ]
          },
          "metadata": {
            "tags": []
          },
          "execution_count": 32
        }
      ]
    },
    {
      "cell_type": "code",
      "metadata": {
        "id": "yyQYCzMZOWJa",
        "colab_type": "code",
        "outputId": "c8ef0012-5e16-4e4e-fb76-ea3a0ebe5dfd",
        "colab": {
          "base_uri": "https://localhost:8080/",
          "height": 34
        }
      },
      "source": [
        "model.n_components"
      ],
      "execution_count": 0,
      "outputs": [
        {
          "output_type": "execute_result",
          "data": {
            "text/plain": [
              "2"
            ]
          },
          "metadata": {
            "tags": []
          },
          "execution_count": 30
        }
      ]
    },
    {
      "cell_type": "markdown",
      "metadata": {
        "id": "nuyNQVBtN-0Y",
        "colab_type": "text"
      },
      "source": [
        "In theory the PCA makes no difference, but in practice it improves rate of training, simplifies the required neural structure to represent the data, and results in systems that better characterize the \"intermediate structure\" of the data instead of having to account for multiple scales - it is more accurate."
      ]
    },
    {
      "cell_type": "markdown",
      "metadata": {
        "id": "ZCknkK0pWZxq",
        "colab_type": "text"
      },
      "source": [
        "## Intrinsic Dimension"
      ]
    },
    {
      "cell_type": "code",
      "metadata": {
        "id": "Rwrf6b_1N_rN",
        "colab_type": "code",
        "outputId": "4cd593ed-e52b-43c8-daf1-1aa5ca122eb3",
        "colab": {
          "base_uri": "https://localhost:8080/",
          "height": 34
        }
      },
      "source": [
        "import numpy as np\n",
        "x=np.arange(100)\n",
        "noise=np.random.randint(0,3,size=100)\n",
        "print(x[:3],noise[:3])"
      ],
      "execution_count": 0,
      "outputs": [
        {
          "output_type": "stream",
          "text": [
            "[0 1 2] [1 1 0]\n"
          ],
          "name": "stdout"
        }
      ]
    },
    {
      "cell_type": "code",
      "metadata": {
        "id": "Eiy86aA5WrpT",
        "colab_type": "code",
        "outputId": "ebd92a0c-9511-4f85-898b-29a9c6f3aa94",
        "colab": {
          "base_uri": "https://localhost:8080/",
          "height": 34
        }
      },
      "source": [
        "x.shape"
      ],
      "execution_count": 0,
      "outputs": [
        {
          "output_type": "execute_result",
          "data": {
            "text/plain": [
              "(100,)"
            ]
          },
          "metadata": {
            "tags": []
          },
          "execution_count": 53
        }
      ]
    },
    {
      "cell_type": "code",
      "metadata": {
        "id": "k8doe0rzW1Qg",
        "colab_type": "code",
        "outputId": "2569deb8-9974-4ed6-fe4c-826c7e5f4b85",
        "colab": {
          "base_uri": "https://localhost:8080/",
          "height": 34
        }
      },
      "source": [
        "noise.shape"
      ],
      "execution_count": 0,
      "outputs": [
        {
          "output_type": "execute_result",
          "data": {
            "text/plain": [
              "(100,)"
            ]
          },
          "metadata": {
            "tags": []
          },
          "execution_count": 54
        }
      ]
    },
    {
      "cell_type": "code",
      "metadata": {
        "id": "kCVsNs6PW2XS",
        "colab_type": "code",
        "colab": {}
      },
      "source": [
        "y=x+noise"
      ],
      "execution_count": 0,
      "outputs": []
    },
    {
      "cell_type": "markdown",
      "metadata": {
        "id": "bBdK--lPW_CR",
        "colab_type": "text"
      },
      "source": [
        "This dataset may have two dimensions: x and y but it can also be represented in 1d without much information loss.\n",
        "This is analogous to how cameras take 3d information and flatten it to 2d without loss of data.\n",
        "The `instrinsic dimension` of the dataset above is 1."
      ]
    },
    {
      "cell_type": "markdown",
      "metadata": {
        "id": "VtdoSfOMYLrn",
        "colab_type": "text"
      },
      "source": [
        "PCA can help us identify the intrinsic dimension by identifying the principal components that have a high variance."
      ]
    },
    {
      "cell_type": "code",
      "metadata": {
        "id": "UcLIuk2aX5Dr",
        "colab_type": "code",
        "colab": {}
      },
      "source": [
        "df=pd.DataFrame(data.data,columns=data.feature_names)"
      ],
      "execution_count": 0,
      "outputs": []
    },
    {
      "cell_type": "code",
      "metadata": {
        "id": "zTuqTw84YieJ",
        "colab_type": "code",
        "outputId": "da726300-8207-46e0-e75c-0d5c05a516e8",
        "colab": {
          "base_uri": "https://localhost:8080/",
          "height": 203
        }
      },
      "source": [
        "df.head()"
      ],
      "execution_count": 0,
      "outputs": [
        {
          "output_type": "execute_result",
          "data": {
            "text/html": [
              "<div>\n",
              "<style scoped>\n",
              "    .dataframe tbody tr th:only-of-type {\n",
              "        vertical-align: middle;\n",
              "    }\n",
              "\n",
              "    .dataframe tbody tr th {\n",
              "        vertical-align: top;\n",
              "    }\n",
              "\n",
              "    .dataframe thead th {\n",
              "        text-align: right;\n",
              "    }\n",
              "</style>\n",
              "<table border=\"1\" class=\"dataframe\">\n",
              "  <thead>\n",
              "    <tr style=\"text-align: right;\">\n",
              "      <th></th>\n",
              "      <th>sepal length (cm)</th>\n",
              "      <th>sepal width (cm)</th>\n",
              "      <th>petal length (cm)</th>\n",
              "      <th>petal width (cm)</th>\n",
              "    </tr>\n",
              "  </thead>\n",
              "  <tbody>\n",
              "    <tr>\n",
              "      <th>0</th>\n",
              "      <td>5.1</td>\n",
              "      <td>3.5</td>\n",
              "      <td>1.4</td>\n",
              "      <td>0.2</td>\n",
              "    </tr>\n",
              "    <tr>\n",
              "      <th>1</th>\n",
              "      <td>4.9</td>\n",
              "      <td>3.0</td>\n",
              "      <td>1.4</td>\n",
              "      <td>0.2</td>\n",
              "    </tr>\n",
              "    <tr>\n",
              "      <th>2</th>\n",
              "      <td>4.7</td>\n",
              "      <td>3.2</td>\n",
              "      <td>1.3</td>\n",
              "      <td>0.2</td>\n",
              "    </tr>\n",
              "    <tr>\n",
              "      <th>3</th>\n",
              "      <td>4.6</td>\n",
              "      <td>3.1</td>\n",
              "      <td>1.5</td>\n",
              "      <td>0.2</td>\n",
              "    </tr>\n",
              "    <tr>\n",
              "      <th>4</th>\n",
              "      <td>5.0</td>\n",
              "      <td>3.6</td>\n",
              "      <td>1.4</td>\n",
              "      <td>0.2</td>\n",
              "    </tr>\n",
              "  </tbody>\n",
              "</table>\n",
              "</div>"
            ],
            "text/plain": [
              "   sepal length (cm)  sepal width (cm)  petal length (cm)  petal width (cm)\n",
              "0                5.1               3.5                1.4               0.2\n",
              "1                4.9               3.0                1.4               0.2\n",
              "2                4.7               3.2                1.3               0.2\n",
              "3                4.6               3.1                1.5               0.2\n",
              "4                5.0               3.6                1.4               0.2"
            ]
          },
          "metadata": {
            "tags": []
          },
          "execution_count": 66
        }
      ]
    },
    {
      "cell_type": "code",
      "metadata": {
        "id": "D-wFZ-OSYt_M",
        "colab_type": "code",
        "colab": {}
      },
      "source": [
        "model=PCA()\n",
        "model.fit(df.values)\n",
        "transformed_samples=model.transform(df.values)"
      ],
      "execution_count": 0,
      "outputs": []
    },
    {
      "cell_type": "code",
      "metadata": {
        "id": "x6LUttB0Y6fL",
        "colab_type": "code",
        "outputId": "0bb96a8f-3b8b-484a-baa8-1649b9fe54f9",
        "colab": {
          "base_uri": "https://localhost:8080/",
          "height": 282
        }
      },
      "source": [
        "sns.barplot(np.arange(4)+1,model.explained_variance_,hue=['pc'+str(i) for i in range(1,5)])"
      ],
      "execution_count": 0,
      "outputs": [
        {
          "output_type": "execute_result",
          "data": {
            "text/plain": [
              "<matplotlib.axes._subplots.AxesSubplot at 0x7f61c2150710>"
            ]
          },
          "metadata": {
            "tags": []
          },
          "execution_count": 87
        },
        {
          "output_type": "display_data",
          "data": {
            "image/png": "[encoded data removed]",
            "text/plain": [
              "<Figure size 432x288 with 1 Axes>"
            ]
          },
          "metadata": {
            "tags": []
          }
        }
      ]
    },
    {
      "cell_type": "markdown",
      "metadata": {
        "id": "1Bu8x3aqa1CD",
        "colab_type": "text"
      },
      "source": [
        "The intrinsic dimension of the iris dataset is 1 - 2 D.\n",
        "This is a scree plot.\n",
        "\n",
        "You can use `model.explained_variance` or can use `np.var(transformed_samples,axis=0)` to get the variances of the principal components"
      ]
    },
    {
      "cell_type": "code",
      "metadata": {
        "id": "420WsoFGeL6G",
        "colab_type": "code",
        "colab": {}
      },
      "source": [
        "# Make a scatter plot of the untransformed points\n",
        "plt.scatter(grains[:,0], grains[:,1])\n",
        "\n",
        "# Create a PCA instance: model\n",
        "model = PCA()\n",
        "\n",
        "# Fit model to points\n",
        "model.fit(grains)\n",
        "\n",
        "# Get the mean of the grain samples: mean\n",
        "mean = model.mean_\n",
        "\n",
        "# Get the first principal component: first_pc\n",
        "first_pc = model.components_[0,:]\n",
        "\n",
        "# Plot first_pc as an arrow, starting at mean\n",
        "plt.arrow(mean[0],mean[1], first_pc[0], first_pc[1], color='red', width=0.01)\n",
        "\n",
        "# Keep axes on same scale\n",
        "plt.axis('equal')\n",
        "plt.show()"
      ],
      "execution_count": 0,
      "outputs": []
    },
    {
      "cell_type": "markdown",
      "metadata": {
        "id": "XTSP1Tx1fWDL",
        "colab_type": "text"
      },
      "source": [
        "## Dimension Reduction"
      ]
    },
    {
      "cell_type": "code",
      "metadata": {
        "id": "cQSQNB2OeM0n",
        "colab_type": "code",
        "colab": {}
      },
      "source": [
        "model=PCA(2)# good choice for n_components is the intrinsic dimension\n",
        "model.fit(df.values)\n",
        "transformed=model.transform(df.values)"
      ],
      "execution_count": 0,
      "outputs": []
    },
    {
      "cell_type": "code",
      "metadata": {
        "id": "9iGZOY9jfrfB",
        "colab_type": "code",
        "outputId": "c94e34d2-a458-4c59-e044-ab89556cf75d",
        "colab": {
          "base_uri": "https://localhost:8080/",
          "height": 34
        }
      },
      "source": [
        "transformed.shape"
      ],
      "execution_count": 0,
      "outputs": [
        {
          "output_type": "execute_result",
          "data": {
            "text/plain": [
              "(150, 2)"
            ]
          },
          "metadata": {
            "tags": []
          },
          "execution_count": 101
        }
      ]
    },
    {
      "cell_type": "code",
      "metadata": {
        "id": "C1eNiOZyf76o",
        "colab_type": "code",
        "outputId": "10a38082-f9f9-45bf-ab0f-39899d63d7e1",
        "colab": {
          "base_uri": "https://localhost:8080/",
          "height": 34
        }
      },
      "source": [
        "data.target_names"
      ],
      "execution_count": 0,
      "outputs": [
        {
          "output_type": "execute_result",
          "data": {
            "text/plain": [
              "array(['setosa', 'versicolor', 'virginica'], dtype='<U10')"
            ]
          },
          "metadata": {
            "tags": []
          },
          "execution_count": 103
        }
      ]
    },
    {
      "cell_type": "code",
      "metadata": {
        "id": "HPEP0wSxf2pH",
        "colab_type": "code",
        "colab": {}
      },
      "source": [
        "def species(x):\n",
        "  if x==0:\n",
        "    return 'setosa'\n",
        "  elif x==1:\n",
        "    return 'versicolor'\n",
        "  else:\n",
        "    return 'virginica'\n",
        "\n",
        "s=list(map(species,data.target))"
      ],
      "execution_count": 0,
      "outputs": []
    },
    {
      "cell_type": "code",
      "metadata": {
        "id": "zzVp5LsOftLP",
        "colab_type": "code",
        "outputId": "78500709-7f38-44d9-f7ca-6608a9a8a5f4",
        "colab": {
          "base_uri": "https://localhost:8080/",
          "height": 285
        }
      },
      "source": [
        "sns.scatterplot(transformed[:,0],transformed[:,1],hue=s,palette='spring')"
      ],
      "execution_count": 0,
      "outputs": [
        {
          "output_type": "execute_result",
          "data": {
            "text/plain": [
              "<matplotlib.axes._subplots.AxesSubplot at 0x7f61c1d176d8>"
            ]
          },
          "metadata": {
            "tags": []
          },
          "execution_count": 107
        },
        {
          "output_type": "display_data",
          "data": {
            "image/png": "[encoded data removed]",
            "text/plain": [
              "<Figure size 432x288 with 1 Axes>"
            ]
          },
          "metadata": {
            "tags": []
          }
        }
      ]
    },
    {
      "cell_type": "markdown",
      "metadata": {
        "id": "MH14qm2kge1V",
        "colab_type": "text"
      },
      "source": [
        "Hence, we were able to represent 4D data in 2D using PCA.\n",
        "* Note how PC1 (x-axis) is a better differentiator between classed than PC2.\n",
        "* The model had no idea regarding which class a dataset belonged to but it was still able to represent it in the form of a \"cluster\"."
      ]
    },
    {
      "cell_type": "markdown",
      "metadata": {
        "id": "16UcyD6Mi88g",
        "colab_type": "text"
      },
      "source": [
        "## PCA in NLP"
      ]
    },
    {
      "cell_type": "code",
      "metadata": {
        "id": "-L9XWziKgd5k",
        "colab_type": "code",
        "colab": {}
      },
      "source": [
        "# Import TfidfVectorizer\n",
        "from sklearn.feature_extraction.text import TfidfVectorizer\n",
        "\n",
        "# Create a TfidfVectorizer: tfidf\n",
        "tfidf = TfidfVectorizer()\n",
        "\n",
        "# Apply fit_transform to document: csr_mat\n",
        "csr_mat = tfidf.fit_transform(documents)\n",
        "\n",
        "# Print result of toarray() method\n",
        "print(csr_mat.toarray())\n",
        "\n",
        "# Get the words: words\n",
        "words = tfidf.get_feature_names()\n",
        "\n",
        "# Print words\n",
        "print(words)"
      ],
      "execution_count": 0,
      "outputs": []
    },
    {
      "cell_type": "code",
      "metadata": {
        "id": "uCsbORk2js_w",
        "colab_type": "code",
        "colab": {}
      },
      "source": [
        "# Perform the necessary imports\n",
        "from sklearn.decomposition import TruncatedSVD # PCA doesn't work with sparse matrices like tfidf\n",
        "from sklearn.cluster import KMeans\n",
        "from sklearn.pipeline import make_pipeline\n",
        "\n",
        "# Create a TruncatedSVD instance: svd\n",
        "svd = TruncatedSVD(n_components=50) # reduce tfidf matrix to 50 features (principal components)\n",
        "\n",
        "# Create a KMeans instance: kmeans\n",
        "kmeans = KMeans(n_clusters=6) # 6 clusters\n",
        "\n",
        "# Create a pipeline: pipeline\n",
        "pipeline = make_pipeline(svd,kmeans)\n"
      ],
      "execution_count": 0,
      "outputs": []
    },
    {
      "cell_type": "code",
      "metadata": {
        "id": "gifp6WkUkFuS",
        "colab_type": "code",
        "colab": {}
      },
      "source": [
        "# Import pandas\n",
        "import pandas as pd\n",
        "# Fit the pipeline to articles\n",
        "pipeline.fit(articles)\n",
        "\n",
        "# Calculate the cluster labels: labels\n",
        "labels = pipeline.predict(articles)\n",
        "\n",
        "# Create a DataFrame aligning labels and titles: df\n",
        "df = pd.DataFrame({'label': labels, 'article': titles})\n",
        "\n",
        "# Display df sorted by cluster label\n",
        "print(df.sort_values(by='label'))\n"
      ],
      "execution_count": 0,
      "outputs": []
    }
  ]
}